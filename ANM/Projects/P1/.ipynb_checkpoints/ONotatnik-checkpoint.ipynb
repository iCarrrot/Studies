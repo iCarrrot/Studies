{
 "cells": [
  {
   "cell_type": "markdown",
   "metadata": {},
   "source": [
    "# Heading\n",
    "\n",
    "pkg(PyPlot)\n",
    "pkg(match)"
   ]
  },
  {
   "cell_type": "code",
   "execution_count": 1,
   "metadata": {
    "collapsed": false
   },
   "outputs": [
    {
     "data": {
      "text/plain": [
       "300"
      ]
     },
     "execution_count": 1,
     "metadata": {},
     "output_type": "execute_result"
    }
   ],
   "source": [
    "include(\"OSteffAndCheck.jl\")\n",
    "#include(\"OPolyAndRealGenerator.jl\")\n",
    "include(\"OpolyAndReal.jl\")\n",
    "using PyPlot\n",
    "using Match\n",
    "setprecision(300)"
   ]
  },
  {
   "cell_type": "markdown",
   "metadata": {},
   "source": [
    "funkcja Newtona: $x_{n+1}=x_n - \\frac{f(x_n)}{f'(x_n)}\\qquad k=0,1,...,$ \n",
    "i funkcja Steffensena: $x_{k+1}:=x_k-\\frac{f^2(x_k)}{f(x_k+f(x_k))-f(x_k)} \\qquad k=0,1,...,$"
   ]
  },
  {
   "cell_type": "markdown",
   "metadata": {},
   "source": [
    "$x-tan(x)$"
   ]
  },
  {
   "cell_type": "code",
   "execution_count": null,
   "metadata": {
    "collapsed": false
   },
   "outputs": [],
   "source": [
    "n=150\n",
    "x0=BigFloat(4.52)\n",
    "nr=2\n",
    "label=\"f(x)=x-tg(x)\"\n",
    "dokladnosc(n,nr,x0,label)"
   ]
  },
  {
   "cell_type": "code",
   "execution_count": null,
   "metadata": {
    "collapsed": false
   },
   "outputs": [],
   "source": [
    "n=150\n",
    "lebel=\"f(x)=x-tg(x)\"\n",
    "x0=BigFloat(7.7)\n",
    "nr=2\n",
    "dokladnosc(n,nr,x0,label)\n"
   ]
  },
  {
   "cell_type": "code",
   "execution_count": null,
   "metadata": {
    "collapsed": false
   },
   "outputs": [],
   "source": [
    "krok=BigFloat(0.1)\n",
    "border=BigFloat(1000)\n",
    "x=BigFloat(4.5)\n",
    "x1=BigFloat(7.7)\n",
    "nr=2\n",
    "rozbieganie(krok,nr,border,x,x1)\n"
   ]
  },
  {
   "cell_type": "markdown",
   "metadata": {},
   "source": [
    "$f(x)=x^3-5x^2+3x-7$"
   ]
  },
  {
   "cell_type": "code",
   "execution_count": null,
   "metadata": {
    "collapsed": false,
    "scrolled": false
   },
   "outputs": [],
   "source": [
    "n=15\n",
    "label=\"f(x)=x^3-5x^2+3x-7\"\n",
    "x0=BigFloat(5.0)\n",
    "nr=1\n",
    "dokladnosc(n,nr,x0,label)\n"
   ]
  },
  {
   "cell_type": "code",
   "execution_count": null,
   "metadata": {
    "collapsed": false
   },
   "outputs": [],
   "source": [
    "krok=BigFloat(0.1)\n",
    "border=BigFloat(1000)\n",
    "nr=1\n",
    "x=BigFloat(5)\n",
    "x1=BigFloat(5)\n",
    "rozbieganie(krok,nr,border,x,x1)"
   ]
  },
  {
   "cell_type": "markdown",
   "metadata": {},
   "source": [
    "dla $f(x)=x^2-2$ \n",
    "i  \n",
    "$f'(x)=2x$ "
   ]
  },
  {
   "cell_type": "code",
   "execution_count": null,
   "metadata": {
    "collapsed": false,
    "scrolled": false
   },
   "outputs": [],
   "source": [
    "n=10\n",
    "label=\"f(x)=x^2 -2\"\n",
    "nr=100\n",
    "dokladnosc(n,nr,x0,label)"
   ]
  },
  {
   "cell_type": "code",
   "execution_count": null,
   "metadata": {
    "collapsed": false
   },
   "outputs": [],
   "source": [
    "krok=BigFloat(0.1)\n",
    "border=BigFloat(1000)\n",
    "x=BigFloat(-1.4)\n",
    "x1=BigFloat(1.4)\n",
    "nr=100\n",
    "rozbieganie(krok,nr,border,x,x1)"
   ]
  },
  {
   "cell_type": "markdown",
   "metadata": {},
   "source": [
    "$f(x)=2^x-10+5^{x/2}$\n",
    "\n",
    "\n",
    "$f'(x)=2^x \\log(2)+\\frac{1}{2} 5^{x/2} \\log(5)$"
   ]
  },
  {
   "cell_type": "code",
   "execution_count": null,
   "metadata": {
    "collapsed": true
   },
   "outputs": [],
   "source": [
    "n=10\n",
    "label=\"2^x-10+5^(1/2*x)\"\n",
    "nr=3\n",
    "x0=BigFloat(2)\n",
    "dokladnosc(n,nr,x0,label)"
   ]
  },
  {
   "cell_type": "code",
   "execution_count": null,
   "metadata": {
    "collapsed": true
   },
   "outputs": [],
   "source": [
    "krok=BigFloat(0.1)\n",
    "border=BigFloat(1000)\n",
    "x=BigFloat(2)\n",
    "x1=BigFloat(2)\n",
    "nr=3\n",
    "rozbieganie(krok,nr,border,x,x1)"
   ]
  }
 ],
 "metadata": {
  "kernelspec": {
   "display_name": "Julia 0.6.0-dev",
   "language": "julia",
   "name": "julia-0.6"
  },
  "language_info": {
   "file_extension": ".jl",
   "mimetype": "application/julia",
   "name": "julia",
   "version": "0.6.0"
  }
 },
 "nbformat": 4,
 "nbformat_minor": 1
}
